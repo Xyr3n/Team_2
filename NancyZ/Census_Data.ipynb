{
 "cells": [
  {
   "cell_type": "markdown",
   "id": "78ff987c-c152-4c36-aaaf-968e40b40546",
   "metadata": {},
   "source": [
    "# Use the Census Data: What is the population for Berkeley, California in 2021\n"
   ]
  },
  {
   "cell_type": "code",
   "execution_count": 12,
   "id": "4d7ed3fd-158e-4a8d-8102-21bfb3ea487b",
   "metadata": {},
   "outputs": [],
   "source": [
    "import requests\n",
    "import pandas as pd\n",
    "from config_key import census_api_key"
   ]
  },
  {
   "cell_type": "code",
   "execution_count": 13,
   "id": "c3c4a131-7336-4c76-a26e-7ce584dcca22",
   "metadata": {},
   "outputs": [],
   "source": [
    "def get_population_estimate(census_api_key, year, state=None, county=None):\n",
    "    base_url = \"https://api.census.gov/data\"\n",
    "    dataset = \"pep/population\"\n",
    "\n",
    "    # Form the API request URL\n",
    "    url = f\"{base_url}/{year}/{dataset}?get=POP,NAME&key={census_api_key}\"\n",
    "\n",
    "    # Add state or county filter if specified\n",
    "    if state:\n",
    "        url += f\"&for=state:{state}\"\n",
    "    elif county:\n",
    "        url += f\"&for=county:{county}\"\n",
    "\n",
    "    # Make the API request\n",
    "    response = requests.get(url)\n",
    "\n",
    "    # Check if the request was successful (status code 200)\n",
    "    if response.status_code == 200:\n",
    "        # Parse the JSON response\n",
    "        data = response.json()\n",
    "\n",
    "        # Extract population and location name from the response\n",
    "        population = int(data[1][0])\n",
    "        location_name = data[1][1]\n",
    "\n",
    "        return population, location_name\n",
    "    else:\n",
    "        # Print an error message if the request was not successful\n",
    "        print(f\"Error: {response.status_code}\")\n",
    "        return None\n",
    "\n",
    "# Replace '2020' with the appropriate year\n",
    "year = \"2020\"\n",
    "\n",
    "# Example: Get the total population of New York (FIPS code: 36)\n",
    "state_population_info = get_population_estimate(census_api_key, year, state=\"36\")\n",
    "\n",
    "if state_population_info is not None:\n",
    "    state_population, state_name = state_population_info\n",
    "    print(f\"The total population of {state_name} in {year} is: {state_population}\")\n",
    "else:\n",
    "    print(\"Failed to retrieve population data.\")"
   ]
  },
  {
   "cell_type": "code",
   "execution_count": 14,
   "id": "b45d105f-fc56-423f-9e90-1165dade3071",
   "metadata": {},
   "outputs": [
    {
     "name": "stdout",
     "output_type": "stream",
     "text": [
      "Error: 404\n"
     ]
    },
    {
     "ename": "TypeError",
     "evalue": "cannot unpack non-iterable NoneType object",
     "output_type": "error",
     "traceback": [
      "\u001b[0;31m---------------------------------------------------------------------------\u001b[0m",
      "\u001b[0;31mTypeError\u001b[0m                                 Traceback (most recent call last)",
      "Cell \u001b[0;32mIn[14], line 5\u001b[0m\n\u001b[1;32m      2\u001b[0m year \u001b[38;5;241m=\u001b[39m \u001b[38;5;124m\"\u001b[39m\u001b[38;5;124m2020\u001b[39m\u001b[38;5;124m\"\u001b[39m\n\u001b[1;32m      4\u001b[0m \u001b[38;5;66;03m# Example: Get the total population of California (FIPS code: 06)\u001b[39;00m\n\u001b[0;32m----> 5\u001b[0m state_population, state_name \u001b[38;5;241m=\u001b[39m get_population_estimate(census_api_key, year, state\u001b[38;5;241m=\u001b[39m\u001b[38;5;124m\"\u001b[39m\u001b[38;5;124m06\u001b[39m\u001b[38;5;124m\"\u001b[39m)\n\u001b[1;32m      7\u001b[0m \u001b[38;5;28mprint\u001b[39m(\u001b[38;5;124mf\u001b[39m\u001b[38;5;124m\"\u001b[39m\u001b[38;5;124mThe total population of \u001b[39m\u001b[38;5;132;01m{\u001b[39;00mstate_name\u001b[38;5;132;01m}\u001b[39;00m\u001b[38;5;124m in \u001b[39m\u001b[38;5;132;01m{\u001b[39;00myear\u001b[38;5;132;01m}\u001b[39;00m\u001b[38;5;124m is: \u001b[39m\u001b[38;5;132;01m{\u001b[39;00mstate_population\u001b[38;5;132;01m}\u001b[39;00m\u001b[38;5;124m\"\u001b[39m)\n",
      "\u001b[0;31mTypeError\u001b[0m: cannot unpack non-iterable NoneType object"
     ]
    }
   ],
   "source": [
    "# Replace '2020' with the appropriate year\n",
    "year = \"2020\"\n",
    "\n",
    "# Example: Get the total population of California (FIPS code: 06)\n",
    "state_population, state_name = get_population_estimate(census_api_key, year, state=\"06\")\n",
    "\n",
    "print(f\"The total population of {state_name} in {year} is: {state_population}\")"
   ]
  },
  {
   "cell_type": "code",
   "execution_count": null,
   "id": "4cf097a4-c39f-4750-8c15-03a37665213d",
   "metadata": {},
   "outputs": [],
   "source": []
  }
 ],
 "metadata": {
  "kernelspec": {
   "display_name": "Python 3 (ipykernel)",
   "language": "python",
   "name": "python3"
  },
  "language_info": {
   "codemirror_mode": {
    "name": "ipython",
    "version": 3
   },
   "file_extension": ".py",
   "mimetype": "text/x-python",
   "name": "python",
   "nbconvert_exporter": "python",
   "pygments_lexer": "ipython3",
   "version": "3.11.7"
  }
 },
 "nbformat": 4,
 "nbformat_minor": 5
}
