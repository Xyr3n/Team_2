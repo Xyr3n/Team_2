{
 "cells": [
  {
   "cell_type": "code",
   "execution_count": 1,
   "id": "62b252b0-3ce4-40cd-89e8-85e1b624b28c",
   "metadata": {},
   "outputs": [],
   "source": [
    "# Dependencies\n",
    "import requests\n",
    "import pandas as pd\n",
    "from newsapi import NewsApiClient\n",
    "from config_key import news_api_key"
   ]
  },
  {
   "cell_type": "code",
   "execution_count": null,
   "id": "96544558-6e11-4719-852f-e44aff13c1d0",
   "metadata": {},
   "outputs": [],
   "source": [
    "# base url for everything\n",
    "everythingBase_url = \"https://newsapi.org/v2/everything?\"\n",
    "\n",
    "# query url for everything\n",
    "query = \"\"\n",
    "everythingQuery_url = f\"{everything_base}q={query}&apiKey={news_api_key}\""
   ]
  },
  {
   "cell_type": "code",
   "execution_count": null,
   "id": "1c549866-ca70-4c49-805f-f2072c507d12",
   "metadata": {},
   "outputs": [],
   "source": [
    "# base url for headlines\n",
    "country = \" \"\n",
    "topBase_url = \"https://newsapi.org/v2/top-headlines?\"\n",
    "\n",
    "# query url for headlines\n",
    "topQuery_url = f\"{topBase_url}apiKey={news_api_key}\""
   ]
  },
  {
   "cell_type": "code",
   "execution_count": null,
   "id": "8c432cb9-7d43-47db-ad06-ef0a5ddd6875",
   "metadata": {},
   "outputs": [],
   "source": [
    "# base url for headlines with sources\n",
    "sourcesBase_url = \"https://newsapi.org/v2/top-headlines/sources?\"\n",
    "\n",
    "# query url for sources in headlines\n",
    "sourcesQuery_url = f\"{sourcesBase_url}\""
   ]
  }
 ],
 "metadata": {
  "kernelspec": {
   "display_name": "Python 3 (ipykernel)",
   "language": "python",
   "name": "python3"
  },
  "language_info": {
   "codemirror_mode": {
    "name": "ipython",
    "version": 3
   },
   "file_extension": ".py",
   "mimetype": "text/x-python",
   "name": "python",
   "nbconvert_exporter": "python",
   "pygments_lexer": "ipython3",
   "version": "3.11.7"
  }
 },
 "nbformat": 4,
 "nbformat_minor": 5
}
