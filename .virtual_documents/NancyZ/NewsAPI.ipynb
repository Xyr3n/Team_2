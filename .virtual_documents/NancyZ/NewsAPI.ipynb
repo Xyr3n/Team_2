# Dependencies
import requests
import pandas as pd
from newsapi import NewsApiClient
from config_key import news_api_key


# base url for everything
everythingBase_url = "https://newsapi.org/v2/everything?"

# query url for everything
query = ""
everythingQuery_url = f"{everything_base}q={query}&apiKey={news_api_key}"


# base url for headlines
country = " "
topBase_url = "https://newsapi.org/v2/top-headlines?"

# query url for headlines
topQuery_url = f"{topBase_url}apiKey={news_api_key}"


# base url for headlines with sources
sourcesBase_url = "https://newsapi.org/v2/top-headlines/sources?"

# query url for sources in headlines
sourcesQuery_url = f"{sourcesBase_url}"
