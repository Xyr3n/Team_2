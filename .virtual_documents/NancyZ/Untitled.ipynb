import requests
import pandas as pd
from config_key import census_api_key


def get_population(census, api_key, year, state, county, tract):
    base_url = "https://api.census.gov/data"
    dataset = "acs/acs5"
    base_year = "2019"  # You can adjust the year based on the available datasets

    # Form the API request URL
    url = f"{base_url}/{base_year}/{dataset}?get=NAME,B01003_001E&for=tract:{tract}&in=state:{state}+county:{county}&key={api_key}"

    # Make the API request
    response = requests.get(url)
    
    # Check if the request was successful (status code 200)
    if response.status_code == 200:
        # Parse the JSON response
        data = response.json()

        # Extract the population from the response
        population = int(data[1][1])  # B01003_001E represents total population

        return population
    else:
        # Print an error message if the request was not successful
        print(f"Error: {response.status_code}")
        return None


# Replace these with the specific location details you are interested in
state = "01"  # Alabama's FIPS code
county = "001"  # Autauga County's FIPS code
tract = "020100"  # Example census tract code

# Replace '2019' with the appropriate year based on the available datasets
population = get_population(requests, census_api_key, "2019", state, county, tract)

if population is not None:
    print(f"The population of the specified area is: {population}")
else:
    print("Failed to retrieve population data.")



