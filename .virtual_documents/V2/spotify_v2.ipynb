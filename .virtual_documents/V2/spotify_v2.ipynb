import pandas as pd
import numpy as np
import matplotlib.pyplot as plt
import scipy.stats as st
from scipy.stats import linregress
import requests
import spotipy
from spotipy.oauth2 import SpotifyClientCredentials

# Import Spotify Credentials
from config import CLIENT_ID
from config import CLIENT_SECRET


# Top 10 Artists Streamed on Spotify in the United States as of January 17th - Artist ID numbers

#1. Taylor Swift - https://open.spotify.com/artist/06HL4z0CvFAxyc27GXpf02?si=28979011a2f446fb

#2. Drake - https://open.spotify.com/artist/3TVXtAsR1Inutravj472S9r4?si=c036ec885a6c4ab7

#3. Travis Scott - https://open.spotify.com/artist/0Y5tJX1MQlPlqiwlOH1tJY?si=13b2ea9ddc304c14

#4. Zach Bryan - https://open.spotify.com/artist/40ZNYROS4zLfyyBSs2PGe2?si=db0c9492a4a44e5c

#5. Kanye West - https://open.spotify.com/artist/5K4W6rqBFWDnAN6FQUkS6x?si=14d9933251a04f4e

#6. The Weeknd - https://open.spotify.com/artist/1Xyo4u8uXC1ZmMpatF05PJ?si=7fd262759d3d453f

#7. Morgan Wallen - https://open.spotify.com/artist/4oUHIQIBe0LHzYfvXNW4QM?si=7c693b6829d04717

#8. 21 Savage - https://open.spotify.com/artist/1URnnhqYAYcrqrcwql10ft?si=f620ac02e71c485e

#9. Bad Bunny - https://open.spotify.com/artist/4q3ewBCX7sLwd24euuV69X?si=aad3dd7099f742bf

#10. Future - https://open.spotify.com/artist/1RyvyyTE3xzB2ZywiAwp0i?si=876369688ab64a7d


import spotipy
import json
from spotipy.oauth2 import SpotifyClientCredentials
from config import CLIENT_ID
from config import CLIENT_SECRET

# Authenticate Spotify credentials and connect to Spotify API with Spotipy library
client_credentials_manager = SpotifyClientCredentials(client_id=CLIENT_ID, client_secret=CLIENT_SECRET)
sp = spotipy.Spotify(client_credentials_manager=client_credentials_manager)

# Retrieve audio features for a specific track
track_id = '1BxfuPKGuaTgP7aM0Bbdwr'
audio_features = sp.audio_features([track_id])

# Print audio features
print(json.dumps(audio_features, indent=4, sort_keys=True))


# Taylor Swift

# Authenticate and connect to Spotify API through Spotipy library
sp = spotipy.Spotify(auth_manager=SpotifyClientCredentials(client_id=CLIENT_ID,
  client_secret=CLIENT_SECRET))

# Create empty lists to populate values 
swift_track_uri=[]
swift_track_name= []
swift_track_pop=[]
swift_artist_name=[]

# Create artist variable using unique URI ID 
swift_uri='spotify:artist:06HL4z0CvFAxyc27GXpf02'

# Use "artist_top_tracks" response from Spotipy Python library to obtain artist's top tracks
swift_results = sp.artist_top_tracks(swift_uri, country='US')

# Create for-loop to iterate over each element in artist's top tracks list
for track in swift_results['tracks']:
    print (track['name'], track['artists'][0]['name'])
    print (track['uri'])
# Append elements to empty lists above    
    swift_track_uri.append(track['uri'])
    swift_track_name.append(track['name'])
    swift_track_pop.append(track['popularity'])
    swift_artist_name.append(track['artists'][0]['name'])   

# Retrieve audio features from artist's top tracks
swiftdata=sp.audio_features(tracks=swift_track_uri)

# Slicing indexes so they are the same length as other audio features
swift_track_name = swift_track_name[0:9]
swift_track_pop= swift_track_pop[0:9]
swift_artist_name = swift_artist_name[0:9]

# Create empty lists to populate values 
swift_tracks_acousticness=[]
swift_tracks_tempo=[]
swift_tracks_uri=[]
swift_tracks_energy=[]
swift_tracks_loudness=[]
swift_tracks_speechiness=[]
swift_tracks_danceability=[]
swift_tracks_valence=[]

# Create for-loop to iterate over each track and its audio features
for swift in range(len(swiftdata)-1):
# Append values to empty lists above   
    swift_tracks_acousticness.append(swiftdata[swift]['acousticness'])
    swift_tracks_tempo.append(swiftdata[swift]['tempo'])
    swift_tracks_uri.append(swiftdata[swift]['uri'])
    swift_tracks_energy.append(swiftdata[swift]['energy'])
    swift_tracks_loudness.append(swiftdata[swift]['loudness'])
    swift_tracks_speechiness.append(swiftdata[swift]['speechiness'])
    swift_tracks_danceability.append(swiftdata[swift]['danceability'])
    swift_tracks_valence.append(swiftdata[swift]['valence'])

# Create DataFrame displaying values for each audio feature column
swiftdata_df=pd.DataFrame({
    'uri':swift_tracks_uri,
    'artist': swift_artist_name, 
    'track':swift_track_name,
    'acousticness':swift_tracks_acousticness,
    'tempo': swift_tracks_tempo,
    'energy':swift_tracks_energy,
    'loudness': swift_tracks_loudness,
    'speechiness':swift_tracks_speechiness,
    'danceability':swift_tracks_danceability,
    'popularity': swift_track_pop,
    'valence': swift_tracks_valence
    })
swiftdata_df


# Drake

# Authenticate and connect to Spotify API through Spotipy library
sp = spotipy.Spotify(auth_manager=SpotifyClientCredentials(client_id=CLIENT_ID,
  client_secret=CLIENT_SECRET))

# Create empty lists to populate values 
drake_tracks_uri=[]
drake_tracks_name= []
drake_track_pop=[]
drake_artist_name=[]

# Create artist variable using unique URI ID 
drake_uri='spotify:artist:3TVXtAsR1Inumwj472S9r4'

# Use "artist_top_tracks" response from Spotipy Python library to obtain artist's top tracks
drake_results = sp.artist_top_tracks(drake_uri, country='US')

# Create for-loop to iterate over each element in artist's top tracks list
for track in drake_results['tracks']:
    print (track['name'], track['artists'][0]['name'])
    print (track['uri'])
# Append elements to empty lists above    
    drake_tracks_uri.append(track['uri'])
    drake_tracks_name.append(track['name'])
    drake_track_pop.append(track['popularity'])
    drake_artist_name.append(track['artists'][0]['name'])  

# Retrieve audio features from artist's top tracks
drakedata=sp.audio_features(tracks=drake_tracks_uri)

# Slicing indexes so they are the same length as other audio features
drake_tracks_name = drake_tracks_name[0:9]
drake_track_pop= drake_track_pop[0:9]
drake_artist_name = drake_artist_name[0:9]

# Create empty lists to populate values 
drake_tracks_acousticness=[]
drake_tracks_tempo=[]
drake_tracks_uri=[]
drake_tracks_energy=[]
drake_tracks_loudness=[]
drake_tracks_speechiness=[]
drake_tracks_danceability=[]
drake_tracks_valence=[]

# Create for-loop to iterate over each track and its audio features
for drake in range(len(drakedata)-1):
# Append values to empty lists above   
    drake_tracks_acousticness.append(drakedata[drake]['acousticness'])
    drake_tracks_tempo.append(drakedata[drake]['tempo'])
    drake_tracks_uri.append(drakedata[drake]['uri'])
    drake_tracks_energy.append(drakedata[drake]['energy'])
    drake_tracks_loudness.append(drakedata[drake]['loudness'])
    drake_tracks_speechiness.append(drakedata[drake]['speechiness'])
    drake_tracks_danceability.append(drakedata[drake]['danceability'])
    drake_tracks_valence.append(drakedata[drake]['valence'])

# Create DataFrame displaying values for each audio feature column
drakedata_df=pd.DataFrame({
    'uri':drake_tracks_uri,
    'artist': drake_artist_name, 
    'track':drake_tracks_name,
    'acousticness':drake_tracks_acousticness,
    'tempo': drake_tracks_tempo,
    'energy':drake_tracks_energy,
    'loudness': drake_tracks_loudness,
    'speechiness':drake_tracks_speechiness,
    'danceability':drake_tracks_danceability,
    'popularity': drake_track_pop,
    'valence': drake_tracks_valence
    })
drakedata_df


# Travis Scott

# Authenticate and connect to Spotify API through Spotipy library
sp = spotipy.Spotify(auth_manager=SpotifyClientCredentials(client_id=CLIENT_ID,
  client_secret=CLIENT_SECRET))

# Create empty lists to populate values 
trav_tracks_uri=[]
trav_tracks_name= []
trav_track_pop=[]
trav_artist_name=[]

# Create artist variable using unique URI ID 
trav_uri='spotify:artist:0Y5tJX1MQlPlqiwlOH1tJY'

# Use "artist_top_tracks" response from Spotipy Python library to obtain artist's top tracks
trav_results = sp.artist_top_tracks(trav_uri, country='US')

# Create for-loop to iterate over each element in artist's top tracks list
for track in trav_results['tracks']:
    print (track['name'], track['artists'][0]['name'])
    print (track['uri'])
# Append elements to empty lists above    
    trav_tracks_uri.append(track['uri'])
    trav_tracks_name.append(track['name'])
    trav_track_pop.append(track['popularity'])
    trav_artist_name.append(track['artists'][0]['name'])  

# Retrieve audio features from artist's top tracks
travdata=sp.audio_features(tracks=trav_tracks_uri)

# Slicing indexes so they are the same length as other audio features
trav_tracks_name = trav_tracks_name[0:9]
trav_track_pop= trav_track_pop[0:9]
trav_artist_name = trav_artist_name[0:9]

# Create empty lists to populate values 
trav_tracks_acousticness=[]
trav_tracks_tempo=[]
trav_tracks_uri=[]
trav_tracks_energy=[]
trav_tracks_loudness=[]
trav_tracks_speechiness=[]
trav_tracks_danceability=[]
trav_tracks_valence=[]

# Create for-loop to iterate over each track and its audio features
for trav in range(len(travdata)-1):
# Append values to empty lists above   
    trav_tracks_acousticness.append(travdata[trav]['acousticness'])
    trav_tracks_tempo.append(travdata[trav]['tempo'])
    trav_tracks_uri.append(travdata[trav]['uri'])
    trav_tracks_energy.append(travdata[trav]['energy'])
    trav_tracks_loudness.append(travdata[trav]['loudness'])
    trav_tracks_speechiness.append(travdata[trav]['speechiness'])
    trav_tracks_danceability.append(travdata[trav]['danceability'])
    trav_tracks_valence.append(travdata[trav]['valence'])

# Create DataFrame displaying values for each audio feature column
travdata_df=pd.DataFrame({
    'uri':trav_tracks_uri,
    'artist': trav_artist_name, 
    'track':trav_tracks_name,
    'acousticness':trav_tracks_acousticness,
    'tempo': trav_tracks_tempo,
    'energy':trav_tracks_energy,
    'loudness': trav_tracks_loudness,
    'speechiness':trav_tracks_speechiness,
    'danceability':trav_tracks_danceability,
    'popularity': trav_track_pop,
    'valence': trav_tracks_valence
    })
travdata_df


# Zach Bryan

# Authenticate and connect to Spotify API through Spotipy library
sp = spotipy.Spotify(auth_manager=SpotifyClientCredentials(client_id=CLIENT_ID,
  client_secret=CLIENT_SECRET))

# Create empty lists to populate values 
zach_track_uri=[]
zach_track_name= []
zach_track_pop=[]
zach_artist_name=[]

# Create artist variable using unique URI ID 
zach_uri= "spotify:artist:40ZNYROS4zLfyyBSs2PGe2"

# Use "artist_top_tracks" response from Spotipy Python library to obtain artist's top tracks
zach_results = sp.artist_top_tracks(zach_uri, country='US')

# Create for-loop to iterate over each element in artist's top tracks list
for track in zach_results['tracks']:
    print (track['name'], track['artists'][0]['name'])
    print (track['uri'])
# Append elements to empty lists above    
    zach_track_uri.append(track['uri'])
    zach_track_name.append(track['name'])
    zach_track_pop.append(track['popularity'])
    zach_artist_name.append(track['artists'][0]['name'])

# Retrieve audio features from artist's top tracks
zachdata=sp.audio_features(tracks=zach_track_uri)

# Slicing indexes so they are the same length as other audio features
zach_track_name = zach_track_name[0:9]
zach_track_pop= zach_track_pop[0:9]
zach_artist_name = zach_artist_name[0:9]

# Create empty lists to populate values 
zach_tracks_acousticness=[]
zach_tracks_tempo=[]
zach_tracks_uri=[]
zach_tracks_energy=[]
zach_tracks_loudness=[]
zach_tracks_speechiness=[]
zach_tracks_danceability=[]
zach_tracks_valence=[]

# Create for-loop to iterate over each track and its audio features
for zach in range(len(zachdata)-1):
# Append values to empty lists above   
    zach_tracks_acousticness.append(zachdata[zach]['acousticness'])
    zach_tracks_tempo.append(zachdata[zach]['tempo'])
    zach_tracks_uri.append(zachdata[zach]['uri'])
    zach_tracks_energy.append(zachdata[zach]['energy'])
    zach_tracks_loudness.append(zachdata[zach]['loudness'])
    zach_tracks_speechiness.append(zachdata[zach]['speechiness'])
    zach_tracks_danceability.append(zachdata[zach]['danceability'])
    zach_tracks_valence.append(zachdata[zach]['valence'])

# Create DataFrame displaying values for each audio feature column
zachdata_df=pd.DataFrame({
    'uri':zach_tracks_uri,
    'artist': zach_artist_name, 
    'track':zach_track_name,
    'acousticness':zach_tracks_acousticness,
    'tempo': zach_tracks_tempo,
    'energy':zach_tracks_energy,
    'loudness': zach_tracks_loudness,
    'speechiness':zach_tracks_speechiness,
    'danceability':zach_tracks_danceability,
    'popularity': zach_track_pop,
    'valence': zach_tracks_valence
    })
zachdata_df


# Kanye West

# Authenticate and connect to Spotify API through Spotipy library
sp = spotipy.Spotify(auth_manager=SpotifyClientCredentials(client_id=CLIENT_ID,
  client_secret=CLIENT_SECRET))

# Create empty lists to populate values 
kanye_tracks_uri=[]
kanye_tracks_name= []
kanye_track_pop=[]
kanye_artist_name=[]

# Create artist variable using unique URI ID 
kanye_uri="spotify:artist:5K4W6rqBFWDnAN6FQUkS6x"

# Use "artist_top_tracks" response from Spotipy Python library to obtain artist's top tracks
kanye_results = sp.artist_top_tracks(kanye_uri, country='US')

# Create for-loop to iterate over each element in artist's top tracks list
for track in kanye_results['tracks']:
    print (track['name'], track['artists'][0]['name'])
    print (track['uri'])
# Append elements to empty lists above    
    kanye_tracks_uri.append(track['uri'])
    kanye_tracks_name.append(track['name'])
    kanye_track_pop.append(track['popularity'])
    kanye_artist_name.append(track['artists'][0]['name'])

# Retrieve audio features from artist's top tracks
kanyedata=sp.audio_features(tracks=kanye_tracks_uri)

# Slicing indexes so they are the same length as other audio features
kanye_tracks_name = kanye_tracks_name[0:9]
kanye_track_pop= kanye_track_pop[0:9]
kanye_artist_name = kanye_artist_name[0:9]

# Create empty lists to populate values 
kanye_tracks_acousticness=[]
kanye_tracks_tempo=[]
kanye_tracks_uri=[]
kanye_tracks_energy=[]
kanye_tracks_loudness=[]
kanye_tracks_speechiness=[]
kanye_tracks_danceability=[]
kanye_tracks_valence=[]

# Create for-loop to iterate over each track and its audio features
for kanye in range(len(kanyedata)-1):
# Append values to empty lists above   
    kanye_tracks_acousticness.append(kanyedata[kanye]['acousticness'])
    kanye_tracks_tempo.append(kanyedata[kanye]['tempo'])
    kanye_tracks_uri.append(kanyedata[kanye]['uri'])
    kanye_tracks_energy.append(kanyedata[kanye]['energy'])
    kanye_tracks_loudness.append(kanyedata[kanye]['loudness'])
    kanye_tracks_speechiness.append(kanyedata[kanye]['speechiness'])
    kanye_tracks_danceability.append(kanyedata[kanye]['danceability'])
    kanye_tracks_valence.append(kanyedata[kanye]['valence'])

# Create DataFrame displaying values for each audio feature column
kanyedata_df=pd.DataFrame({
    'uri':kanye_tracks_uri,
    'artist': kanye_artist_name, 
    'track':kanye_tracks_name,
    'acousticness':kanye_tracks_acousticness,
    'tempo': kanye_tracks_tempo,
    'energy':kanye_tracks_energy,
    'loudness': kanye_tracks_loudness,
    'speechiness':kanye_tracks_speechiness,
    'danceability':kanye_tracks_danceability,
    'popularity': kanye_track_pop,
    'valence': kanye_tracks_valence
    })
kanyedata_df


# The Weeknd

# Authenticate and connect to Spotify API through Spotipy library
sp = spotipy.Spotify(auth_manager=SpotifyClientCredentials(client_id=CLIENT_ID,
  client_secret=CLIENT_SECRET))

# Create empty lists to populate values 
wknd_tracks_uri=[]
wknd_tracks_name= []
wknd_track_pop=[]
wknd_artist_name=[]

# Create artist variable using unique URI ID 
wknd_uri="spotify:artist:1Xyo4u8uXC1ZmMpatF05PJ"

# Use "artist_top_tracks" response from Spotipy Python library to obtain artist's top tracks
wknd_results = sp.artist_top_tracks(wknd_uri, country='US')

# Create for-loop to iterate over each element in artist's top tracks list
for track in wknd_results['tracks']:
    print (track['name'], track['artists'][0]['name'])
    print (track['uri'])
# Append elements to empty lists above    
    wknd_tracks_uri.append(track['uri'])
    wknd_tracks_name.append(track['name'])
    wknd_track_pop.append(track['popularity'])
    wknd_artist_name.append(track['artists'][0]['name'])

# Retrieve audio features from artist's top tracks
wknddata=sp.audio_features(tracks=wknd_tracks_uri)

# Slicing indexes so they are the same length as other audio features
wknd_tracks_name = wknd_tracks_name[0:9]
wknd_track_pop= wknd_track_pop[0:9]
wknd_artist_name = wknd_artist_name[0:9]

# Create empty lists to populate values 
wknd_tracks_acousticness=[]
wknd_tracks_tempo=[]
wknd_tracks_uri=[]
wknd_tracks_energy=[]
wknd_tracks_loudness=[]
wknd_tracks_speechiness=[]
wknd_tracks_danceability=[]
wknd_tracks_valence=[]

# Create for-loop to iterate over each track and its audio features
for wknd in range(len(wknddata)-1):
# Append values to empty lists above   
    wknd_tracks_acousticness.append(wknddata[wknd]['acousticness'])
    wknd_tracks_tempo.append(wknddata[wknd]['tempo'])
    wknd_tracks_uri.append(wknddata[wknd]['uri'])
    wknd_tracks_energy.append(wknddata[wknd]['energy'])
    wknd_tracks_loudness.append(wknddata[wknd]['loudness'])
    wknd_tracks_speechiness.append(wknddata[wknd]['speechiness'])
    wknd_tracks_danceability.append(wknddata[wknd]['danceability'])
    wknd_tracks_valence.append(wknddata[wknd]['valence'])

# Create DataFrame displaying values for each audio feature column
wknddata_df=pd.DataFrame({
    'uri':wknd_tracks_uri,
    'artist': wknd_artist_name, 
    'track':wknd_tracks_name,
    'acousticness':wknd_tracks_acousticness,
    'tempo': wknd_tracks_tempo,
    'energy':wknd_tracks_energy,
    'loudness': wknd_tracks_loudness,
    'speechiness':wknd_tracks_speechiness,
    'danceability':wknd_tracks_danceability,
    'popularity': wknd_track_pop,
    'valence': wknd_tracks_valence
    })
wknddata_df


# Morgan Wallen

# Authenticate and connect to Spotify API through Spotipy library
sp = spotipy.Spotify(auth_manager=SpotifyClientCredentials(client_id=CLIENT_ID,
  client_secret=CLIENT_SECRET))

# Create empty lists to populate values 
wall_tracks_uri=[]
wall_tracks_name= []
wall_track_pop=[]
wall_artist_name=[]

# Create artist variable using unique URI ID 
wall_uri='spotify:artist:4oUHIQIBe0LHzYfvXNW4QM'

# Use "artist_top_tracks" response from Spotipy Python library to obtain artist's top tracks
wall_results = sp.artist_top_tracks(wall_uri, country='US')

# Create for-loop to iterate over each element in artist's top tracks list
for track in wall_results['tracks']:
    print (track['name'], track['artists'][0]['name'])
    print (track['uri'])
# Append elements to empty lists above    
    wall_tracks_uri.append(track['uri'])
    wall_tracks_name.append(track['name'])
    wall_track_pop.append(track['popularity'])
    wall_artist_name.append(track['artists'][0]['name'])  

# Retrieve audio features from artist's top tracks
walldata=sp.audio_features(tracks=wall_tracks_uri)

# Slicing indexes so they are the same length as other audio features
wall_tracks_name = wall_tracks_name[0:9]
wall_track_pop= wall_track_pop[0:9]
wall_artist_name = wall_artist_name[0:9]

# Create empty lists to populate values 
wall_tracks_acousticness=[]
wall_tracks_tempo=[]
wall_tracks_uri=[]
wall_tracks_energy=[]
wall_tracks_loudness=[]
wall_tracks_speechiness=[]
wall_tracks_danceability=[]
wall_tracks_valence=[]

# Create for-loop to iterate over each track and its audio features
for wall in range(len(walldata)-1):
# Append values to empty lists above   
    wall_tracks_acousticness.append(walldata[wall]['acousticness'])
    wall_tracks_tempo.append(walldata[wall]['tempo'])
    wall_tracks_uri.append(walldata[wall]['uri'])
    wall_tracks_energy.append(walldata[wall]['energy'])
    wall_tracks_loudness.append(walldata[wall]['loudness'])
    wall_tracks_speechiness.append(walldata[wall]['speechiness'])
    wall_tracks_danceability.append(walldata[wall]['danceability'])
    wall_tracks_valence.append(walldata[wall]['valence'])

# Create DataFrame displaying values for each audio feature column
walldata_df=pd.DataFrame({
    'uri':wall_tracks_uri,
    'artist': wall_artist_name, 
    'track':wall_tracks_name,
    'acousticness':wall_tracks_acousticness,
    'tempo': wall_tracks_tempo,
    'energy':wall_tracks_energy,
    'loudness': wall_tracks_loudness,
    'speechiness':wall_tracks_speechiness,
    'danceability':wall_tracks_danceability,
    'popularity': wall_track_pop,
    'valence': wall_tracks_valence
    })
walldata_df


# 21 Savage

# Authenticate and connect to Spotify API through Spotipy library
sp = spotipy.Spotify(auth_manager=SpotifyClientCredentials(client_id=CLIENT_ID,
  client_secret=CLIENT_SECRET))

# Create empty lists to populate values 
sav_tracks_uri=[]
sav_tracks_name= []
sav_track_pop=[]
sav_artist_name=[]

# Create artist variable using unique URI ID 
sav_uri='spotify:artist:1URnnhqYAYcrqrcwql10ft'

# Use "artist_top_tracks" response from Spotipy Python library to obtain artist's top tracks
sav_results = sp.artist_top_tracks(sav_uri, country='US')

# Create for-loop to iterate over each element in artist's top tracks list
for track in sav_results['tracks']:
    print (track['name'], track['artists'][0]['name'])
    print (track['uri'])
# Append elements to empty lists above    
    sav_tracks_uri.append(track['uri'])
    sav_tracks_name.append(track['name'])
    sav_track_pop.append(track['popularity'])
    sav_artist_name.append(track['artists'][0]['name'])  

# Retrieve audio features from artist's top tracks
savdata=sp.audio_features(tracks=sav_tracks_uri)

# Slicing indexes so they are the same length as other audio features
sav_tracks_name = sav_tracks_name[0:9]
sav_track_pop= sav_track_pop[0:9]
sav_artist_name = sav_artist_name[0:9]

# Create empty lists to populate values 
sav_tracks_acousticness=[]
sav_tracks_tempo=[]
sav_tracks_uri=[]
sav_tracks_energy=[]
sav_tracks_loudness=[]
sav_tracks_speechiness=[]
sav_tracks_danceability=[]
sav_tracks_valence=[]

# Create for-loop to iterate over each track and its audio features
for sav in range(len(savdata)-1):
# Append values to empty lists above   
    sav_tracks_acousticness.append(savdata[sav]['acousticness'])
    sav_tracks_tempo.append(savdata[sav]['tempo'])
    sav_tracks_uri.append(savdata[sav]['uri'])
    sav_tracks_energy.append(savdata[sav]['energy'])
    sav_tracks_loudness.append(savdata[sav]['loudness'])
    sav_tracks_speechiness.append(savdata[sav]['speechiness'])
    sav_tracks_danceability.append(savdata[sav]['danceability'])
    sav_tracks_valence.append(savdata[sav]['valence'])

# Create DataFrame displaying values for each audio feature column
savdata_df=pd.DataFrame({
    'uri':sav_tracks_uri,
    'artist': sav_artist_name, 
    'track':sav_tracks_name,
    'acousticness':sav_tracks_acousticness,
    'tempo': sav_tracks_tempo,
    'energy':sav_tracks_energy,
    'loudness': sav_tracks_loudness,
    'speechiness':sav_tracks_speechiness,
    'danceability':sav_tracks_danceability,
    'popularity': sav_track_pop,
    'valence': sav_tracks_valence
    })
savdata_df


# Bad Bunny

# Authenticate and connect to Spotify API through Spotipy library
sp = spotipy.Spotify(auth_manager=SpotifyClientCredentials(client_id=CLIENT_ID,
  client_secret=CLIENT_SECRET))

# Create empty lists to populate values 
bad_tracks_uri=[]
bad_tracks_name= []
bad_track_pop=[]
bad_artist_name=[]

# Create artist variable using unique URI ID 
bad_uri="spotify:artist:4q3ewBCX7sLwd24euuV69X"

# Use "artist_top_tracks" response from Spotipy Python library to obtain artist's top tracks
bad_results = sp.artist_top_tracks(bad_uri, country='US')

# Create for-loop to iterate over each element in artist's top tracks list
for track in bad_results['tracks']:
    print (track['name'], track['artists'][0]['name'])
    print (track['uri'])
# Append elements to empty lists above    
    bad_tracks_uri.append(track['uri'])
    bad_tracks_name.append(track['name'])
    bad_track_pop.append(track['popularity'])
    bad_artist_name.append(track['artists'][0]['name'])

# Retrieve audio features from artist's top tracks
baddata=sp.audio_features(tracks=bad_tracks_uri)

# Slicing indexes so they are the same length as other audio features
bad_tracks_name = bad_tracks_name[0:9]
bad_track_pop= bad_track_pop[0:9]
bad_artist_name = bad_artist_name[0:9]

# Create empty lists to populate values 
bad_tracks_acousticness=[]
bad_tracks_tempo=[]
bad_tracks_uri=[]
bad_tracks_energy=[]
bad_tracks_loudness=[]
bad_tracks_speechiness=[]
bad_tracks_danceability=[]
bad_tracks_valence=[]

# Create for-loop to iterate over each track and its audio features
for bad in range(len(baddata)-1):
# Append values to empty lists above   
    bad_tracks_acousticness.append(baddata[bad]['acousticness'])
    bad_tracks_tempo.append(baddata[bad]['tempo'])
    bad_tracks_uri.append(baddata[bad]['uri'])
    bad_tracks_energy.append(baddata[bad]['energy'])
    bad_tracks_loudness.append(baddata[bad]['loudness'])
    bad_tracks_speechiness.append(baddata[bad]['speechiness'])
    bad_tracks_danceability.append(baddata[bad]['danceability'])
    bad_tracks_valence.append(baddata[bad]['valence'])

# Create DataFrame displaying values for each audio feature column
baddata_df=pd.DataFrame({
    'uri':bad_tracks_uri,
    'artist': bad_artist_name, 
    'track':bad_tracks_name,
    'acousticness':bad_tracks_acousticness,
    'tempo': bad_tracks_tempo,
    'energy':bad_tracks_energy,
    'loudness': bad_tracks_loudness,
    'speechiness':bad_tracks_speechiness,
    'danceability':bad_tracks_danceability,
    'popularity': bad_track_pop,
    'valence': bad_tracks_valence
    })
baddata_df


# Future

# Authenticate and connect to Spotify API through Spotipy library
sp = spotipy.Spotify(auth_manager=SpotifyClientCredentials(client_id=CLIENT_ID,
  client_secret=CLIENT_SECRET))

# Create empty lists to populate values 
fut_tracks_uri=[]
fut_tracks_name= []
fut_track_pop=[]
fut_artist_name=[]

# Create artist variable using unique URI ID 
fut_uri="spotify:artist:1RyvyyTE3xzB2ZywiAwp0i"

# Use "artist_top_tracks" response from Spotipy Python library to obtain artist's top tracks
fut_results = sp.artist_top_tracks(fut_uri, country='US')

# Create for-loop to iterate over each element in artist's top tracks list
for track in fut_results['tracks']:
    print (track['name'], track['artists'][0]['name'])
    print (track['uri'])
# Append elements to empty lists above    
    fut_tracks_uri.append(track['uri'])
    fut_tracks_name.append(track['name'])
    fut_track_pop.append(track['popularity'])
    fut_artist_name.append(track['artists'][0]['name'])

# Retrieve audio features from artist's top tracks
futdata=sp.audio_features(tracks=fut_tracks_uri)

# Slicing indexes so they are the same length as other audio features
fut_tracks_name = fut_tracks_name[0:9]
fut_track_pop= fut_track_pop[0:9]
fut_artist_name = fut_artist_name[0:9]

# Create empty lists to populate values 
fut_tracks_acousticness=[]
fut_tracks_tempo=[]
fut_tracks_uri=[]
fut_tracks_energy=[]
fut_tracks_loudness=[]
fut_tracks_speechiness=[]
fut_tracks_danceability=[]
fut_tracks_valence=[]

# Create for-loop to iterate over each track and its audio features
for fut in range(len(futdata)-1):
# Append values to empty lists above   
    fut_tracks_acousticness.append(futdata[fut]['acousticness'])
    fut_tracks_tempo.append(futdata[fut]['tempo'])
    fut_tracks_uri.append(futdata[fut]['uri'])
    fut_tracks_energy.append(futdata[fut]['energy'])
    fut_tracks_loudness.append(futdata[fut]['loudness'])
    fut_tracks_speechiness.append(futdata[fut]['speechiness'])
    fut_tracks_danceability.append(futdata[fut]['danceability'])
    fut_tracks_valence.append(futdata[fut]['valence'])

# Create DataFrame displaying values for each audio feature column
futdata_df=pd.DataFrame({
    'uri':fut_tracks_uri,
    'artist': fut_artist_name, 
    'track':fut_tracks_name,
    'acousticness':fut_tracks_acousticness,
    'tempo': fut_tracks_tempo,
    'energy':fut_tracks_energy,
    'loudness': fut_tracks_loudness,
    'speechiness':fut_tracks_speechiness,
    'danceability':fut_tracks_danceability,
    'popularity': fut_track_pop,
    'valence': fut_tracks_valence
    })
futdata_df


# Merge Top 10 Artist DataFrames into one DataFrame
dfs=[swiftdata_df,drakedata_df,travdata_df,zachdata_df,kanyedata_df,wknddata_df,walldata_df,savdata_df,baddata_df,futdata_df]
merged_df = dfs[0]
common_columns = ['uri','artist','track','acousticness','tempo','energy','loudness','speechiness','danceability','popularity','valence']
for df in dfs[1:]:
    merged_df = pd.merge(merged_df, df, how='outer',on=common_columns)
merged_df


# Define a function to create Linear Regression plots
def RegressionPlot(x, y, title, xlabel, eq_coordinates, figure):
    (slope, intercept, rvalue, pvalue, stderr) = linregress(x, y)
    regress_values = x * slope + intercept
    line_eq = "y = " + str(round(slope,2)) + "x + " + str(round(intercept,2))
    plt.scatter(x, y, marker='o', facecolors='g', edgecolors="black", alpha=0.75)
    plt.plot(x,regress_values,"r-")
    plt.annotate(line_eq,(eq_coordinates),fontsize=12,color="red")
    plt.title(f"{title} vs. Popularity")
    plt.xlabel(xlabel)
    plt.ylabel("Popularity")
    plt.grid(True)
    print(f"The correlation between {title} & Popularity is r = {rvalue}")
    
# Save the figure before displaying it
    plt.savefig(f"output_data/Fig_{figure}.png")
    plt.show()


# Define a function to create Boxplots for each audio feature
def BoxPlot(audio_feature, title, ylabel):
    fig1, ax1 = plt.subplots()
    ax1.set_title(f"{title} in Spotify Popular Music")
    ax1.set_ylabel(ylabel)
    ax1.boxplot(df)

    plt.savefig(f"output_data/Fig_box_{audio_feature}.png")
    plt.show()


# Acousticness vs. Popularity
    
# Linear regression on Acousticness vs. Popularity
x = merged_df["acousticness"]
y = merged_df["popularity"]
title = "Acousticness"
xlabel= "Acousticness (confidence level measured from 0.0 - 1.0)"
eq_coordinates = [80,75]
figure = "Acousticness"
RegressionPlot(x, y, title, xlabel, eq_coordinates, figure)





# Tempo vs. Popularity
    
# Linear regression on Tempo vs. Popularity
x = merged_df["tempo"]
y = merged_df["popularity"]

title = "Tempo"
xlabel= "Tempo (bpm)"
eq_coordinates = [80,75]
figure = "Tempo"

RegressionPlot(x, y, title, xlabel, eq_coordinates, figure)


# Tempo vs. Popularity Box Plot

# Boxplot for audio_feature (tempo)
audio_feature = "tempo"
title = "Tempo"
ylabel = "Tempo (bpm)"
df = merged_df["tempo"]

BoxPlot(audio_feature, title, ylabel)





# Energy vs. Popularity

# Linear regression on Energy vs. Popularity
x = merged_df["energy"]
y = merged_df["popularity"]
title = "Energy"
xlabel= "Energy Rate"
eq_coordinates = [0.3,75]
figure = "Energy"
RegressionPlot(x, y, title, xlabel, eq_coordinates, figure)





# Loudness vs. Popularity

# Linear regression on Loudness vs. Popularity
x = merged_df["loudness"]
y = merged_df["popularity"]
title = "Loudness"
xlabel= "Loudness (Decibels)"
eq_coordinates = [-13,75]
figure = "loudness"
RegressionPlot(x, y, title, xlabel, eq_coordinates, figure)


# Loudness vs. Popularity Box Plot

# Boxplot for audio_feature (tempo)
audio_feature = "loudness"
title = "Loudness"
ylabel = "Loudness (dB)"
df = merged_df["loudness"]

BoxPlot(audio_feature, title, ylabel)





# Speechiness vs. Popularity

# Linear regression on Speechiness vs. Popularity
x = merged_df["speechiness"]
y = merged_df["popularity"]
title = "Speechiness"
xlabel= "Speechiness"
eq_coordinates = [0.2,75]
figure = "Speechiness"
RegressionPlot(x, y, title, xlabel, eq_coordinates, figure)


# Speechiness vs. Popularity Box Plot

# Boxplot for audio_feature (tempo)
audio_feature = "speechiness"
title = "Speechiness"
ylabel = "Speechiness"
df = merged_df["speechiness"]

BoxPlot(audio_feature, title, ylabel)


# Danceability vs. Popularity

# Linear regression on Danceability vs. Popularity
x = merged_df["danceability"]
y = merged_df["popularity"]
title = "Danceability"
xlabel= "Danceability Rate"
eq_coordinates = [0.4,75]
figure = "Danceability"
RegressionPlot(x, y, title, xlabel, eq_coordinates, figure)





# Valence vs. Popularity

# Linear regression on Valence vs. Popularity
x = merged_df["valence"]
y = merged_df["popularity"]
title = "Valence"
xlabel= "Valence"
eq_coordinates = [.2,75]
figure = "Valence"
RegressionPlot(x, y, title, xlabel, eq_coordinates, figure)


# Valence vs. Popularity Box Plot

# Boxplot for audio_feature (tempo)
audio_feature = "valence"
title = "Valence"
ylabel = "Valence"
df = merged_df["valence"]

BoxPlot(audio_feature, title, ylabel)





# Summary Statistics of Our DataFrame
merged_df.describe()



