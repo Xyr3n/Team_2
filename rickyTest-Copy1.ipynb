{
 "cells": [
  {
   "cell_type": "code",
   "execution_count": 6,
   "id": "a64b8451-1184-46a1-9427-996849a04a13",
   "metadata": {},
   "outputs": [
    {
     "name": "stdout",
     "output_type": "stream",
     "text": [
      "2e7ea224318345888119f59e3c8ccbfc\n",
      "BQA1jiLpziaHcg9HJ7AEHa7leGmjIo7rgJwgNLxZ0HKnKZHiZdg36W_UuJjqeH3jwWi4MPN4ne6WNHNAqtbI542ahZRIz-HI3mydoWRQcnjcO8m_2Ns\n",
      "nope\n",
      "null\n"
     ]
    }
   ],
   "source": [
    "from dotenv import load_dotenv\n",
    "import os\n",
    "import base64\n",
    "from requests import post\n",
    "from requests import get\n",
    "import json\n",
    "\n",
    "load_dotenv()\n",
    "\n",
    "client_id = os.getenv(\"client\")\n",
    "client_secret = os.getenv(\"secret\")\n",
    "\n",
    "print(client_id)\n",
    "#grant type set to client_credentials\n",
    "#application/x-ww-form-urlencoded\n",
    "def get_token():\n",
    "    auth_string = client_id + \":\" + client_secret\n",
    "    #encode auth_string\n",
    "    auth_bytes = auth_string.encode(\"utf-8\")\n",
    "    auth_base64 = base64.b64encode(auth_bytes).decode('utf-8')\n",
    "    url = \"https://accounts.spotify.com/api/token\"\n",
    "    headers = {\n",
    "        #send in auth data and verify everything is correct\n",
    "        \"Authorization\": \"Basic \" + auth_base64,\n",
    "        \"Content-Type\": \"application/x-www-form-urlencoded\"\n",
    "    }\n",
    "    data = {\n",
    "        \"grant_type\": \"client_credentials\"\n",
    "    }\n",
    "\n",
    "    #make post request to spotify accounts service\n",
    "    response = post(url, headers=headers, data=data)\n",
    "    if response.status_code == 200:\n",
    "        return response.json().get(\"access_token\")\n",
    "    else:\n",
    "        print(\"Failed to retrieve token\")\n",
    "        print(\"statuscode\", response.status_code)\n",
    "        return None\n",
    "token = get_token()\n",
    "print(token)\n",
    "\n",
    "def spotify(endpoint, token):\n",
    "\n",
    "    headers = {\n",
    "        \"Authorization\": f\"Bearer {token}\"\n",
    "    }\n",
    "    response = get(f\"https://api.spotify.com/v1{endpoint}\", headers=headers)\n",
    "    if response.status_code == 200:\n",
    "        return response.json()\n",
    "    else:\n",
    "        print(\"nope\")\n",
    "        return None\n",
    "data = spotify(\"/top/artists\",token)\n",
    "print(json.dumps(data, indent=4))\n"
   ]
  },
  {
   "cell_type": "code",
   "execution_count": 4,
   "id": "1b9b8e8d-8802-4a2e-b883-29619ca378e5",
   "metadata": {},
   "outputs": [
    {
     "data": {
      "text/plain": [
       "[{'external_urls': {'spotify': 'https://open.spotify.com/artist/5INjqkS1o8h1imAzPqGZBb'},\n",
       "  'href': 'https://api.spotify.com/v1/artists/5INjqkS1o8h1imAzPqGZBb',\n",
       "  'id': '5INjqkS1o8h1imAzPqGZBb',\n",
       "  'name': 'Tame Impala',\n",
       "  'type': 'artist',\n",
       "  'uri': 'spotify:artist:5INjqkS1o8h1imAzPqGZBb'}]"
      ]
     },
     "execution_count": 4,
     "metadata": {},
     "output_type": "execute_result"
    }
   ],
   "source": [
    "data[\"artists\"]\n"
   ]
  },
  {
   "cell_type": "code",
   "execution_count": null,
   "id": "2bdd6193-8f3d-48d7-b7fc-18eb43f48b78",
   "metadata": {},
   "outputs": [],
   "source": []
  }
 ],
 "metadata": {
  "kernelspec": {
   "display_name": "Python 3 (ipykernel)",
   "language": "python",
   "name": "python3"
  },
  "language_info": {
   "codemirror_mode": {
    "name": "ipython",
    "version": 3
   },
   "file_extension": ".py",
   "mimetype": "text/x-python",
   "name": "python",
   "nbconvert_exporter": "python",
   "pygments_lexer": "ipython3",
   "version": "3.9.18"
  }
 },
 "nbformat": 4,
 "nbformat_minor": 5
}
